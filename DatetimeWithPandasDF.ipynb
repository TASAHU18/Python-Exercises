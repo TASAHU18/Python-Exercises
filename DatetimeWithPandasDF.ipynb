{
  "nbformat": 4,
  "nbformat_minor": 0,
  "metadata": {
    "colab": {
      "name": "Untitled4.ipynb",
      "provenance": [],
      "authorship_tag": "ABX9TyOKIRoffIzxQ7KJ+171f2xv",
      "include_colab_link": true
    },
    "kernelspec": {
      "name": "python3",
      "display_name": "Python 3"
    }
  },
  "cells": [
    {
      "cell_type": "markdown",
      "metadata": {
        "id": "view-in-github",
        "colab_type": "text"
      },
      "source": [
        "<a href=\"https://colab.research.google.com/github/TASAHU18/Python-Exercises/blob/master/DatetimeWithPandasDF.ipynb\" target=\"_parent\"><img src=\"https://colab.research.google.com/assets/colab-badge.svg\" alt=\"Open In Colab\"/></a>"
      ]
    },
    {
      "cell_type": "code",
      "metadata": {
        "id": "1HVcVCdzGckl",
        "colab_type": "code",
        "outputId": "4bfa60cd-639d-47b9-d02c-0c0b8c9e66fd",
        "colab": {
          "base_uri": "https://localhost:8080/",
          "height": 289
        }
      },
      "source": [
        "# Import required modules\n",
        "import pandas as pd\n",
        "import numpy as np\n",
        "\n",
        "data = {'name': ['Jason', 'Molly', 'Tina', 'Jake', 'Amy'], \n",
        "        'age': [42, 52, 36, 24.0, 73], \n",
        "        'preTestScore': [4.0, 24, 31, 2, 3],\n",
        "        'postTestScore': [25, 94, 57, 62, 70],\n",
        "        'Date': ['2010-02-10', '2012-11-02','2012-12-15','2016-12-02','2020-01-02'],\n",
        "        'DueDate': ['2012-02-10', '2014-11-02','2012-12-15','2019-12-02','2020-01-02']}\n",
        "df = pd.DataFrame(data, columns = ['name', 'age', 'preTestScore', 'postTestScore', 'Date', 'DueDate'])\n",
        "print(df.head(), '\\n\\n\\n', 'Field DataType', '\\n', df.dtypes)"
      ],
      "execution_count": 130,
      "outputs": [
        {
          "output_type": "stream",
          "text": [
            "    name   age  preTestScore  postTestScore        Date     DueDate\n",
            "0  Jason  42.0           4.0             25  2010-02-10  2012-02-10\n",
            "1  Molly  52.0          24.0             94  2012-11-02  2014-11-02\n",
            "2   Tina  36.0          31.0             57  2012-12-15  2012-12-15\n",
            "3   Jake  24.0           2.0             62  2016-12-02  2019-12-02\n",
            "4    Amy  73.0           3.0             70  2020-01-02  2020-01-02 \n",
            "\n",
            "\n",
            " Field DataType \n",
            " name              object\n",
            "age              float64\n",
            "preTestScore     float64\n",
            "postTestScore      int64\n",
            "Date              object\n",
            "DueDate           object\n",
            "dtype: object\n"
          ],
          "name": "stdout"
        }
      ]
    },
    {
      "cell_type": "code",
      "metadata": {
        "id": "Vb1yeZ0_Gnz8",
        "colab_type": "code",
        "colab": {
          "base_uri": "https://localhost:8080/",
          "height": 136
        },
        "outputId": "91d8e0d4-812d-4937-e6b0-37e09ac6aca6"
      },
      "source": [
        "df['Date'] = pd.to_datetime(df['Date'])\n",
        "df['DueDate'] = pd.to_datetime(df['DueDate'])\n",
        "print(df.dtypes)"
      ],
      "execution_count": 131,
      "outputs": [
        {
          "output_type": "stream",
          "text": [
            "name                     object\n",
            "age                     float64\n",
            "preTestScore            float64\n",
            "postTestScore             int64\n",
            "Date             datetime64[ns]\n",
            "DueDate          datetime64[ns]\n",
            "dtype: object\n"
          ],
          "name": "stdout"
        }
      ]
    },
    {
      "cell_type": "code",
      "metadata": {
        "id": "Pa-rQ9nIzoVr",
        "colab_type": "code",
        "colab": {
          "base_uri": "https://localhost:8080/",
          "height": 221
        },
        "outputId": "e313934c-abae-40d5-c900-3f3d0ea8a3dc"
      },
      "source": [
        "for col in df.select_dtypes(include = 'datetime64[ns]').columns:\n",
        "  df[col] = df[col].dt.date\n",
        "print(df.info())"
      ],
      "execution_count": 132,
      "outputs": [
        {
          "output_type": "stream",
          "text": [
            "<class 'pandas.core.frame.DataFrame'>\n",
            "RangeIndex: 5 entries, 0 to 4\n",
            "Data columns (total 6 columns):\n",
            "name             5 non-null object\n",
            "age              5 non-null float64\n",
            "preTestScore     5 non-null float64\n",
            "postTestScore    5 non-null int64\n",
            "Date             5 non-null object\n",
            "DueDate          5 non-null object\n",
            "dtypes: float64(2), int64(1), object(3)\n",
            "memory usage: 368.0+ bytes\n",
            "None\n"
          ],
          "name": "stdout"
        }
      ]
    },
    {
      "cell_type": "code",
      "metadata": {
        "id": "NP2WsmCi0PII",
        "colab_type": "code",
        "colab": {
          "base_uri": "https://localhost:8080/",
          "height": 204
        },
        "outputId": "739cd242-861e-4b10-8a71-e2b273651c50"
      },
      "source": [
        "df.head()"
      ],
      "execution_count": 133,
      "outputs": [
        {
          "output_type": "execute_result",
          "data": {
            "text/html": [
              "<div>\n",
              "<style scoped>\n",
              "    .dataframe tbody tr th:only-of-type {\n",
              "        vertical-align: middle;\n",
              "    }\n",
              "\n",
              "    .dataframe tbody tr th {\n",
              "        vertical-align: top;\n",
              "    }\n",
              "\n",
              "    .dataframe thead th {\n",
              "        text-align: right;\n",
              "    }\n",
              "</style>\n",
              "<table border=\"1\" class=\"dataframe\">\n",
              "  <thead>\n",
              "    <tr style=\"text-align: right;\">\n",
              "      <th></th>\n",
              "      <th>name</th>\n",
              "      <th>age</th>\n",
              "      <th>preTestScore</th>\n",
              "      <th>postTestScore</th>\n",
              "      <th>Date</th>\n",
              "      <th>DueDate</th>\n",
              "    </tr>\n",
              "  </thead>\n",
              "  <tbody>\n",
              "    <tr>\n",
              "      <th>0</th>\n",
              "      <td>Jason</td>\n",
              "      <td>42.0</td>\n",
              "      <td>4.0</td>\n",
              "      <td>25</td>\n",
              "      <td>2010-02-10</td>\n",
              "      <td>2012-02-10</td>\n",
              "    </tr>\n",
              "    <tr>\n",
              "      <th>1</th>\n",
              "      <td>Molly</td>\n",
              "      <td>52.0</td>\n",
              "      <td>24.0</td>\n",
              "      <td>94</td>\n",
              "      <td>2012-11-02</td>\n",
              "      <td>2014-11-02</td>\n",
              "    </tr>\n",
              "    <tr>\n",
              "      <th>2</th>\n",
              "      <td>Tina</td>\n",
              "      <td>36.0</td>\n",
              "      <td>31.0</td>\n",
              "      <td>57</td>\n",
              "      <td>2012-12-15</td>\n",
              "      <td>2012-12-15</td>\n",
              "    </tr>\n",
              "    <tr>\n",
              "      <th>3</th>\n",
              "      <td>Jake</td>\n",
              "      <td>24.0</td>\n",
              "      <td>2.0</td>\n",
              "      <td>62</td>\n",
              "      <td>2016-12-02</td>\n",
              "      <td>2019-12-02</td>\n",
              "    </tr>\n",
              "    <tr>\n",
              "      <th>4</th>\n",
              "      <td>Amy</td>\n",
              "      <td>73.0</td>\n",
              "      <td>3.0</td>\n",
              "      <td>70</td>\n",
              "      <td>2020-01-02</td>\n",
              "      <td>2020-01-02</td>\n",
              "    </tr>\n",
              "  </tbody>\n",
              "</table>\n",
              "</div>"
            ],
            "text/plain": [
              "    name   age  preTestScore  postTestScore        Date     DueDate\n",
              "0  Jason  42.0           4.0             25  2010-02-10  2012-02-10\n",
              "1  Molly  52.0          24.0             94  2012-11-02  2014-11-02\n",
              "2   Tina  36.0          31.0             57  2012-12-15  2012-12-15\n",
              "3   Jake  24.0           2.0             62  2016-12-02  2019-12-02\n",
              "4    Amy  73.0           3.0             70  2020-01-02  2020-01-02"
            ]
          },
          "metadata": {
            "tags": []
          },
          "execution_count": 133
        }
      ]
    }
  ]
}